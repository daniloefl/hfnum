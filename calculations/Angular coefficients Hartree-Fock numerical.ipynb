{
 "cells": [
  {
   "cell_type": "code",
   "execution_count": 42,
   "metadata": {},
   "outputs": [],
   "source": [
    "from sympy import *\n",
    "from sympy.functions.special.spherical_harmonics import Ynm, Ynm_c\n",
    "\n",
    "r_i, theta_i, phi_i = symbols(\"r_i theta_i phi_i\", real = True)\n",
    "r_j, theta_j, phi_j = symbols(\"r_j theta_j phi_j\", real = True)\n"
   ]
  },
  {
   "cell_type": "code",
   "execution_count": 43,
   "metadata": {},
   "outputs": [],
   "source": [
    "def calc(lp, mp, l, m, k, km):\n",
    "    return integrate(\n",
    "        4*pi/(2*k+1)*Ynm_c(k,km, theta_i, phi_i).expand(func=True)*Ynm(k, km, theta_j, phi_j).expand(func=True)*\n",
    "                (Ynm_c(lp, mp, theta_j, phi_j).expand(func=True)*Ynm(l, m, theta_j, phi_j).expand(func=True)*\n",
    "                 # this is multiplying Y_lpmp(i), we can just average over the angles after this product\n",
    "                 Ynm(lp, mp, theta_i, phi_i).expand(func=True)*\n",
    "                 # to project it into the Y_lpmp for the (l, m) orbital\n",
    "                 4*pi*Ynm_c(l, m, theta_i, phi_i).expand(func=True)*\n",
    "                 sin(theta_j)*                                     # jacobian for integration on dummy j\n",
    "                 sin(theta_i)                                      # jacobian for integration in i, to average on angle\n",
    "                ).factor().simplify(),\n",
    "    (theta_j, 0, pi), (phi_j, 0, 2*pi), (theta_i, 0, pi), (phi_i, 0, 2*pi))/4/pi # averaged here\n"
   ]
  },
  {
   "cell_type": "code",
   "execution_count": 44,
   "metadata": {},
   "outputs": [],
   "source": [
    "def sumK(lp, mp, l, m, k):\n",
    "    R = 0\n",
    "    for km in range(-k, k+1):\n",
    "        R += (calc(lp, mp, l, m, k, km)).evalf()\n",
    "    return R\n"
   ]
  },
  {
   "cell_type": "code",
   "execution_count": 49,
   "metadata": {},
   "outputs": [],
   "source": [
    "def runVd():\n",
    "    for k in [0, 2]:\n",
    "        for l in [0, 1]:\n",
    "            R = 0\n",
    "            for m in range(-l, l+1):\n",
    "                R += (sumK(l, m, l, m, k))\n",
    "            print(\"Vd(%d,%d): %.10f\" % (l, k, R/(2*l+1)))\n"
   ]
  },
  {
   "cell_type": "code",
   "execution_count": 50,
   "metadata": {},
   "outputs": [
    {
     "name": "stdout",
     "output_type": "stream",
     "text": [
      "Vd(0,0): 1.0000000000\n",
      "Vd(1,0): 1.0000000000\n",
      "Vd(0,2): 0.0000000000\n",
      "Vd(1,2): 0.0800000000\n"
     ]
    }
   ],
   "source": [
    "runVd()"
   ]
  },
  {
   "cell_type": "code",
   "execution_count": 51,
   "metadata": {},
   "outputs": [],
   "source": [
    "def runVex():\n",
    "    for k in [0, 1, 2]:\n",
    "        for l1 in [0, 1]:\n",
    "            for l2 in [0, 1]:\n",
    "                R = 0\n",
    "                for m1 in range(-l1, l1+1):\n",
    "                    for m2 in range(-l2, l2+1):\n",
    "                        R += (sumK(l1, m1, l2, m2, k))\n",
    "                print(\"Vex(%d,%d,%d): %.10f\" % (l1, l2, k, R/(2*l1+1)/(2*l2+1)))"
   ]
  },
  {
   "cell_type": "code",
   "execution_count": 52,
   "metadata": {
    "scrolled": false
   },
   "outputs": [
    {
     "name": "stdout",
     "output_type": "stream",
     "text": [
      "Vex(0,0,0): 1.0000000000\n",
      "Vex(0,1,0): 0.0000000000\n",
      "Vex(1,0,0): 0.0000000000\n",
      "Vex(1,1,0): 0.3333333333\n",
      "Vex(0,0,1): 0.0000000000\n",
      "Vex(0,1,1): 0.3333333333\n",
      "Vex(1,0,1): 0.3333333333\n",
      "Vex(1,1,1): 0.0000000000\n",
      "Vex(0,0,2): 0.0000000000\n",
      "Vex(0,1,2): 0.0000000000\n",
      "Vex(1,0,2): 0.0000000000\n",
      "Vex(1,1,2): 0.1333333333\n"
     ]
    }
   ],
   "source": [
    "runVex()"
   ]
  },
  {
   "cell_type": "code",
   "execution_count": null,
   "metadata": {},
   "outputs": [],
   "source": []
  }
 ],
 "metadata": {
  "kernelspec": {
   "display_name": "Python 3",
   "language": "python",
   "name": "python3"
  },
  "language_info": {
   "codemirror_mode": {
    "name": "ipython",
    "version": 3
   },
   "file_extension": ".py",
   "mimetype": "text/x-python",
   "name": "python",
   "nbconvert_exporter": "python",
   "pygments_lexer": "ipython3",
   "version": "3.6.5"
  }
 },
 "nbformat": 4,
 "nbformat_minor": 2
}
