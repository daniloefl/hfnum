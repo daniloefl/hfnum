{
 "cells": [
  {
   "cell_type": "code",
   "execution_count": 19,
   "metadata": {},
   "outputs": [],
   "source": [
    "from sympy import *\n",
    "from sympy.functions.special.spherical_harmonics import Ynm, Ynm_c\n",
    "\n",
    "init_printing()\n",
    "\n",
    "k_i, k_j = symbols(\"k_i k_j\", real = True)\n",
    "psi_a = Function('psi_a')\n",
    "psi_b = Function('psi_b')\n"
   ]
  },
  {
   "cell_type": "markdown",
   "metadata": {},
   "source": [
    "# Slater integral coefficients for radial Hartree-Fock equations\n",
    "\n",
    "This implements the symbolic calculation of the Slater integrals coefficients. The integrals are as follows.\n"
   ]
  },
  {
   "cell_type": "code",
   "execution_count": 22,
   "metadata": {},
   "outputs": [
    {
     "data": {
      "image/png": "[encoded data removed]",
      "text/latex": [
       "$$\\int \\frac{\\psi_{a}{\\left (k_{i} \\right )}}{\\left|{k_{i} - k_{j}}\\right|} \\psi_{b}{\\left (k_{i} \\right )}\\, dk_{i}$$"
      ],
      "text/plain": [
       "⌠                     \n",
       "⎮ ψₐ(kᵢ)⋅ψ_b(kᵢ)      \n",
       "⎮ ────────────── d(kᵢ)\n",
       "⎮   │kᵢ - k_j│        \n",
       "⌡                     "
      ]
     },
     "metadata": {},
     "output_type": "display_data"
    },
    {
     "data": {
      "image/png": "[encoded data removed]",
      "text/latex": [
       "$$\\psi_{b}{\\left (k_{j} \\right )} \\int \\frac{\\psi_{a}{\\left (k_{i} \\right )}}{\\left|{k_{i} - k_{j}}\\right|}\\, dk_{i}$$"
      ],
      "text/plain": [
       "         ⌠                 \n",
       "         ⎮   ψₐ(kᵢ)        \n",
       "ψ_b(k_j)⋅⎮ ────────── d(kᵢ)\n",
       "         ⎮ │kᵢ - k_j│      \n",
       "         ⌡                 "
      ]
     },
     "metadata": {},
     "output_type": "display_data"
    }
   ],
   "source": [
    "Vd = integrate(psi_a(k_i)*psi_b(k_i)/abs(k_i - k_j), k_i)\n",
    "Vex = integrate(psi_a(k_i)*psi_b(k_j)/abs(k_i - k_j), k_i)\n",
    "display(Vd)\n",
    "display(Vex)"
   ]
  },
  {
   "cell_type": "markdown",
   "metadata": {},
   "source": [
    "# Averaging\n",
    "\n",
    "The functions are expanded in a radial part and a spherical harmonic. The integrals below average in angle on the spherical harmonic part, assuming that we can average on spherical harmonics summing up on all m_l for a given shell.\n"
   ]
  },
  {
   "cell_type": "code",
   "execution_count": 3,
   "metadata": {},
   "outputs": [],
   "source": [
    "\n",
    "\n",
    "r_i, theta_i, phi_i = symbols(\"r_i theta_i phi_i\", real = True)\n",
    "r_j, theta_j, phi_j = symbols(\"r_j theta_j phi_j\", real = True)\n"
   ]
  },
  {
   "cell_type": "code",
   "execution_count": 4,
   "metadata": {},
   "outputs": [],
   "source": [
    "def calc(lp, mp, l, m, k, km):\n",
    "    return integrate(\n",
    "        4*pi/(2*k+1)*Ynm_c(k,km, theta_i, phi_i).expand(func=True)*Ynm(k, km, theta_j, phi_j).expand(func=True)*\n",
    "                (Ynm_c(lp, mp, theta_j, phi_j).expand(func=True)*Ynm(l, m, theta_j, phi_j).expand(func=True)*\n",
    "                 # this is multiplying Y_lpmp(i), we can just average over the angles after this product\n",
    "                 Ynm(lp, mp, theta_i, phi_i).expand(func=True)*\n",
    "                 # to project it into the Y_lpmp for the (l, m) orbital\n",
    "                 4*pi*Ynm_c(l, m, theta_i, phi_i).expand(func=True)*\n",
    "                 sin(theta_j)*                                     # jacobian for integration on dummy j\n",
    "                 sin(theta_i)                                      # jacobian for integration in i, to average on angle\n",
    "                ).factor().simplify(),\n",
    "    (theta_j, 0, pi), (phi_j, 0, 2*pi), (theta_i, 0, pi), (phi_i, 0, 2*pi))/4/pi # averaged here\n",
    "\n",
    "# this does not average over angle, so we can analytically show that the k!=0 terms for a full shell cancel out\n",
    "def calcFullShell(lp, mp, l, m, k, km):\n",
    "    return integrate(\n",
    "        4*pi/(2*k+1)*Ynm_c(k,km, theta_i, phi_i).expand(func=True)*Ynm(k, km, theta_j, phi_j).expand(func=True)*\n",
    "                (Ynm_c(lp, mp, theta_j, phi_j).expand(func=True)*Ynm(l, m, theta_j, phi_j).expand(func=True)*\n",
    "                 Ynm(lp, mp, theta_i, phi_i).expand(func=True)*    # this comes from the wave function\n",
    "                 sin(theta_j)                                      # jacobian for integration on dummy j\n",
    "                ).factor().simplify(),\n",
    "    (theta_j, 0, pi), (phi_j, 0, 2*pi))\n"
   ]
  },
  {
   "cell_type": "code",
   "execution_count": 5,
   "metadata": {},
   "outputs": [],
   "source": [
    "def sumK(lp, mp, l, m, k):\n",
    "    R = 0\n",
    "    for km in range(-k, k+1):\n",
    "        R += (calc(lp, mp, l, m, k, km))\n",
    "    return R\n",
    "\n",
    "def sumKFullShell(lp, mp, l, m, k):\n",
    "    R = 0\n",
    "    for km in range(-k, k+1):\n",
    "        R += (calcFullShell(lp, mp, l, m, k, km))\n",
    "    return R\n"
   ]
  },
  {
   "cell_type": "code",
   "execution_count": 6,
   "metadata": {},
   "outputs": [],
   "source": [
    "def runVdFullShell():\n",
    "    for k in [0, 2]:\n",
    "        for l in [0, 1]:\n",
    "            R = 0\n",
    "            for m in range(-l, l+1):\n",
    "                Ri = sumKFullShell(l, m, l, m, k)\n",
    "                Ri = Ri/Ynm(l, m, theta_i, phi_i).expand(func=True)\n",
    "                R += Ri\n",
    "            print(\"Vd full shell (%d,%d): %s\" % (l, k, R.simplify()/(2*l+1)))\n",
    "def runVd():\n",
    "    for k in [0, 2]:\n",
    "        for l in [0, 1]:\n",
    "            R = 0\n",
    "            for m in range(-l, l+1):\n",
    "                R += (sumK(l, m, l, m, k)).simplify()\n",
    "            print(\"Vd averaged over angles (%d,%d): %s\" % (l, k, R/(2*l+1)))\n"
   ]
  },
  {
   "cell_type": "code",
   "execution_count": 5,
   "metadata": {},
   "outputs": [
    {
     "name": "stdout",
     "output_type": "stream",
     "text": [
      "Vd averaged over angles (0,0): 1\n",
      "Vd averaged over angles (1,0): 1\n",
      "Vd averaged over angles (0,2): 0\n",
      "Vd averaged over angles (1,2): 2/25\n",
      "Vd full shell (0,0): 1\n",
      "Vd full shell (1,0): 1\n",
      "Vd full shell (0,2): 0\n",
      "Vd full shell (1,2): 0\n"
     ]
    }
   ],
   "source": [
    "runVd()\n",
    "runVdFullShell()"
   ]
  },
  {
   "cell_type": "code",
   "execution_count": 7,
   "metadata": {},
   "outputs": [],
   "source": [
    "def runVex():\n",
    "    for k in [0, 1, 2]:\n",
    "        for l1 in [0, 1]:\n",
    "            for l2 in [0, 1]:\n",
    "                R = 0\n",
    "                for m1 in range(-l1, l1+1):\n",
    "                    for m2 in range(-l2, l2+1):\n",
    "                        R += (sumK(l1, m1, l2, m2, k))\n",
    "                print(\"Vex averaged over angles (%d,%d,%d): %s\" % (l1, l2, k, R.simplify()/(2*l1+1)/(2*l2+1)))\n"
   ]
  },
  {
   "cell_type": "code",
   "execution_count": 7,
   "metadata": {
    "scrolled": false
   },
   "outputs": [
    {
     "name": "stdout",
     "output_type": "stream",
     "text": [
      "Vex averaged over angles (0,0,0): 1\n",
      "Vex averaged over angles (0,1,0): 0\n",
      "Vex averaged over angles (1,0,0): 0\n",
      "Vex averaged over angles (1,1,0): 1/3\n",
      "Vex averaged over angles (0,0,1): 0\n",
      "Vex averaged over angles (0,1,1): 1/3\n",
      "Vex averaged over angles (1,0,1): 1/3\n",
      "Vex averaged over angles (1,1,1): 0\n",
      "Vex averaged over angles (0,0,2): 0\n",
      "Vex averaged over angles (0,1,2): 0\n",
      "Vex averaged over angles (1,0,2): 0\n",
      "Vex averaged over angles (1,1,2): 2/15\n"
     ]
    }
   ],
   "source": [
    "runVex()"
   ]
  },
  {
   "cell_type": "markdown",
   "metadata": {},
   "source": [
    "# Calculation not averaging on l and m\n",
    "\n",
    "To compare with page 20 of https://journals.aps.org/pr/pdf/10.1103/PhysRev.34.1293\n",
    "\n",
    "Here, Vd and Vex are calculated and projected in the orbital being calculated."
   ]
  },
  {
   "cell_type": "code",
   "execution_count": 14,
   "metadata": {
    "scrolled": false
   },
   "outputs": [
    {
     "name": "stdout",
     "output_type": "stream",
     "text": [
      "a(0,0,0,0,0): 1\n",
      "a(0,0,0,1,-1): 1\n",
      "a(0,0,0,1,0): 1\n",
      "a(0,0,0,1,1): 1\n",
      "a(0,1,-1,0,0): 1\n",
      "a(0,1,-1,1,-1): 1\n",
      "a(0,1,-1,1,0): 1\n",
      "a(0,1,-1,1,1): 1\n",
      "a(0,1,0,0,0): 1\n",
      "a(0,1,0,1,-1): 1\n",
      "a(0,1,0,1,0): 1\n",
      "a(0,1,0,1,1): 1\n",
      "a(0,1,1,0,0): 1\n",
      "a(0,1,1,1,-1): 1\n",
      "a(0,1,1,1,0): 1\n",
      "a(0,1,1,1,1): 1\n",
      "a(2,0,0,0,0): 0\n",
      "a(2,0,0,1,-1): 0\n",
      "a(2,0,0,1,0): 0\n",
      "a(2,0,0,1,1): 0\n",
      "a(2,1,-1,0,0): 0\n",
      "a(2,1,-1,1,-1): 1/25\n",
      "a(2,1,-1,1,0): -2/25\n",
      "a(2,1,-1,1,1): 1/25\n",
      "a(2,1,0,0,0): 0\n",
      "a(2,1,0,1,-1): -2/25\n",
      "a(2,1,0,1,0): 4/25\n",
      "a(2,1,0,1,1): -2/25\n",
      "a(2,1,1,0,0): 0\n",
      "a(2,1,1,1,-1): 1/25\n",
      "a(2,1,1,1,0): -2/25\n",
      "a(2,1,1,1,1): 1/25\n",
      "a(4,0,0,0,0): 0\n",
      "a(4,0,0,1,-1): 0\n",
      "a(4,0,0,1,0): 0\n",
      "a(4,0,0,1,1): 0\n",
      "a(4,1,-1,0,0): 0\n",
      "a(4,1,-1,1,-1): 0\n",
      "a(4,1,-1,1,0): 0\n",
      "a(4,1,-1,1,1): 0\n",
      "a(4,1,0,0,0): 0\n",
      "a(4,1,0,1,-1): 0\n",
      "a(4,1,0,1,0): 0\n",
      "a(4,1,0,1,1): 0\n",
      "a(4,1,1,0,0): 0\n",
      "a(4,1,1,1,-1): 0\n",
      "a(4,1,1,1,0): 0\n",
      "a(4,1,1,1,1): 0\n",
      "b(0,0,0,0,0): 1\n",
      "b(0,0,0,1,-1): 0\n",
      "b(0,0,0,1,0): 0\n",
      "b(0,0,0,1,1): 0\n",
      "b(0,1,-1,0,0): 0\n",
      "b(0,1,-1,1,-1): 1\n",
      "b(0,1,-1,1,0): 0\n",
      "b(0,1,-1,1,1): 0\n",
      "b(0,1,0,0,0): 0\n",
      "b(0,1,0,1,-1): 0\n",
      "b(0,1,0,1,0): 1\n",
      "b(0,1,0,1,1): 0\n",
      "b(0,1,1,0,0): 0\n",
      "b(0,1,1,1,-1): 0\n",
      "b(0,1,1,1,0): 0\n",
      "b(0,1,1,1,1): 1\n",
      "b(1,0,0,0,0): 0\n",
      "b(1,0,0,1,-1): 0\n",
      "b(1,0,0,1,0): 0\n",
      "b(1,0,0,1,1): 0\n",
      "b(1,1,-1,0,0): 0\n",
      "b(1,1,-1,1,-1): 0\n",
      "b(1,1,-1,1,0): 0\n",
      "b(1,1,-1,1,1): 0\n",
      "b(1,1,0,0,0): 0\n",
      "b(1,1,0,1,-1): 0\n",
      "b(1,1,0,1,0): 0\n",
      "b(1,1,0,1,1): 0\n",
      "b(1,1,1,0,0): 0\n",
      "b(1,1,1,1,-1): 0\n",
      "b(1,1,1,1,0): 0\n",
      "b(1,1,1,1,1): 0\n",
      "b(2,0,0,0,0): 0\n",
      "b(2,0,0,1,-1): 0\n",
      "b(2,0,0,1,0): 0\n",
      "b(2,0,0,1,1): 0\n",
      "b(2,1,-1,0,0): 0\n",
      "b(2,1,-1,1,-1): 1/25\n",
      "b(2,1,-1,1,0): 0\n",
      "b(2,1,-1,1,1): 0\n",
      "b(2,1,0,0,0): 0\n",
      "b(2,1,0,1,-1): 0\n",
      "b(2,1,0,1,0): 4/25\n",
      "b(2,1,0,1,1): 0\n",
      "b(2,1,1,0,0): 0\n",
      "b(2,1,1,1,-1): 0\n",
      "b(2,1,1,1,0): 0\n",
      "b(2,1,1,1,1): 1/25\n",
      "b(3,0,0,0,0): 0\n",
      "b(3,0,0,1,-1): 0\n",
      "b(3,0,0,1,0): 0\n",
      "b(3,0,0,1,1): 0\n",
      "b(3,1,-1,0,0): 0\n",
      "b(3,1,-1,1,-1): 0\n",
      "b(3,1,-1,1,0): 0\n",
      "b(3,1,-1,1,1): 0\n",
      "b(3,1,0,0,0): 0\n",
      "b(3,1,0,1,-1): 0\n",
      "b(3,1,0,1,0): 0\n",
      "b(3,1,0,1,1): 0\n",
      "b(3,1,1,0,0): 0\n",
      "b(3,1,1,1,-1): 0\n",
      "b(3,1,1,1,0): 0\n",
      "b(3,1,1,1,1): 0\n",
      "b(4,0,0,0,0): 0\n",
      "b(4,0,0,1,-1): 0\n",
      "b(4,0,0,1,0): 0\n",
      "b(4,0,0,1,1): 0\n",
      "b(4,1,-1,0,0): 0\n",
      "b(4,1,-1,1,-1): 0\n",
      "b(4,1,-1,1,0): 0\n",
      "b(4,1,-1,1,1): 0\n",
      "b(4,1,0,0,0): 0\n",
      "b(4,1,0,1,-1): 0\n",
      "b(4,1,0,1,0): 0\n",
      "b(4,1,0,1,1): 0\n",
      "b(4,1,1,0,0): 0\n",
      "b(4,1,1,1,-1): 0\n",
      "b(4,1,1,1,0): 0\n",
      "b(4,1,1,1,1): 0\n"
     ]
    }
   ],
   "source": [
    "def calcVdSplit(l, m, lp, mp, k):\n",
    "    R = 0\n",
    "    for km in range(-k, k+1):\n",
    "        R += integrate(\n",
    "            4*pi/(2*k+1)*Ynm_c(k,km, theta_i, phi_i).expand(func=True)*Ynm(k, km, theta_j, phi_j).expand(func=True)*\n",
    "                (Ynm_c(l, m, theta_j, phi_j).expand(func=True)*Ynm(l, m, theta_j, phi_j).expand(func=True)*\n",
    "                 # this is multiplying Y_lpmp(i), we can just average over the angles after this product\n",
    "                 Ynm(lp, mp, theta_i, phi_i).expand(func=True)*\n",
    "                 # to project it into the Y_lprojmproj for the (l_proj, m_proj) orbital\n",
    "                 4*pi*Ynm_c(lp, mp, theta_i, phi_i).expand(func=True)*\n",
    "                 sin(theta_j)*                                     # jacobian for integration on dummy j\n",
    "                 sin(theta_i)                                      # jacobian for integration in i, to average on angle\n",
    "                ).factor().simplify(),\n",
    "            (theta_j, 0, pi), (phi_j, 0, 2*pi), (theta_i, 0, pi), (phi_i, 0, 2*pi))/4/pi # averaged here\n",
    "    return R\n",
    "\n",
    "def calcVexSplit(l, m, lp, mp, k):\n",
    "    R = 0\n",
    "    for km in range(-k, k+1):\n",
    "        R += integrate(\n",
    "            4*pi/(2*k+1)*Ynm_c(k,km, theta_i, phi_i).expand(func=True)*Ynm(k, km, theta_j, phi_j).expand(func=True)*\n",
    "                (Ynm_c(lp, mp, theta_j, phi_j).expand(func=True)*Ynm(l, m, theta_j, phi_j).expand(func=True)*\n",
    "                 # this is multiplying Y_lpmp(i), we can just average over the angles after this product\n",
    "                 Ynm(lp, mp, theta_i, phi_i).expand(func=True)*\n",
    "                 # to project it into the Y_lprojmproj for the (l_proj, m_proj) orbital\n",
    "                 4*pi*Ynm_c(lp, mp, theta_i, phi_i).expand(func=True)*\n",
    "                 sin(theta_j)*                                     # jacobian for integration on dummy j\n",
    "                 sin(theta_i)                                      # jacobian for integration in i, to average on angle\n",
    "                ).factor().simplify(),\n",
    "            (theta_j, 0, pi), (phi_j, 0, 2*pi), (theta_i, 0, pi), (phi_i, 0, 2*pi))/4/pi # averaged here\n",
    "    return R\n",
    "\n",
    "def runSplit():\n",
    "    for k in [0, 2, 4]:\n",
    "        for l1 in [0, 1]:\n",
    "            for m1 in range(-l1, l1+1):\n",
    "                for l2 in [0, 1]:\n",
    "                    for m2 in range(-l2, l2+1):\n",
    "                        R = (calcVdSplit(l1, m1, l2, m2, k)).simplify()\n",
    "                        print(\"a(%d,%d,%d,%d,%d): %s\" % (k, l1, m1, l2, m2, R))\n",
    "    for k in [0, 1, 2, 3, 4]:\n",
    "        for l1 in [0, 1]:\n",
    "            for m1 in range(-l1, l1+1):\n",
    "                for l2 in [0, 1]:\n",
    "                    for m2 in range(-l2, l2+1):\n",
    "                        R = (calcVexSplit(l1, m1, l2, m2, k)).simplify()\n",
    "                        print(\"b(%d,%d,%d,%d,%d): %s\" % (k, l1, m1, l2, m2, R))\n",
    "\n",
    "runSplit()"
   ]
  },
  {
   "cell_type": "code",
   "execution_count": null,
   "metadata": {},
   "outputs": [],
   "source": []
  }
 ],
 "metadata": {
  "kernelspec": {
   "display_name": "Python 3",
   "language": "python",
   "name": "python3"
  }
 },
 "nbformat": 4,
 "nbformat_minor": 2
}
