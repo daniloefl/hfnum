{
 "cells": [
  {
   "cell_type": "code",
   "execution_count": 1,
   "metadata": {},
   "outputs": [],
   "source": [
    "from sympy import *\n",
    "from sympy.functions.special.spherical_harmonics import Ynm, Ynm_c\n",
    "\n",
    "r_i, theta_i, phi_i = symbols(\"r_i theta_i phi_i\", real = True)\n",
    "r_j, theta_j, phi_j = symbols(\"r_j theta_j phi_j\", real = True)\n"
   ]
  },
  {
   "cell_type": "code",
   "execution_count": 2,
   "metadata": {},
   "outputs": [],
   "source": [
    "def calc(lp, mp, l, m, k, km):\n",
    "    return integrate(\n",
    "        4*pi/(2*k+1)*Ynm_c(k,km, theta_i, phi_i).expand(func=True)*Ynm(k, km, theta_j, phi_j).expand(func=True)*\n",
    "                (Ynm_c(lp, mp, theta_j, phi_j).expand(func=True)*Ynm(l, m, theta_j, phi_j).expand(func=True)*\n",
    "                 #Ynm_c(lp, mp, theta_i, phi_i).expand(func=True)*\n",
    "                 sin(theta_j)).factor().simplify(),\n",
    "    (theta_j, 0, pi), (phi_j, 0, 2*pi), (theta_i, 0, pi), (phi_i, 0, 2*pi))\n"
   ]
  },
  {
   "cell_type": "code",
   "execution_count": 3,
   "metadata": {},
   "outputs": [],
   "source": [
    "def sumK(lp, mp, l, m, k):\n",
    "    R = 0\n",
    "    for km in range(-k, k+1):\n",
    "        R += (calc(lp, mp, l, m, k, km)/pi/pi/2).evalf()\n",
    "    return R\n"
   ]
  },
  {
   "cell_type": "code",
   "execution_count": 6,
   "metadata": {},
   "outputs": [],
   "source": [
    "def runVd():\n",
    "    for k in [0, 2, 4]:\n",
    "        for l in [0, 1]:\n",
    "            R = 0\n",
    "            for m in range(-l, l+1):\n",
    "                R += sumK(l, m, l, m, k)\n",
    "            print(\"Vd(%d,%d): %.10f\" % (l, k, R/(2*l+1)))\n"
   ]
  },
  {
   "cell_type": "code",
   "execution_count": 7,
   "metadata": {},
   "outputs": [
    {
     "name": "stdout",
     "output_type": "stream",
     "text": [
      "Vd(0,0): 1.0000000000\n",
      "Vd(1,0): 1.0000000000\n",
      "Vd(0,2): 0.0000000000\n",
      "Vd(1,2): 0.0000000000\n",
      "Vd(0,4): 0.0000000000\n",
      "Vd(1,4): 0.0000000000\n"
     ]
    }
   ],
   "source": [
    "runVd()"
   ]
  },
  {
   "cell_type": "code",
   "execution_count": 10,
   "metadata": {},
   "outputs": [],
   "source": [
    "def runVex():\n",
    "    for k in [0, 1, 2, 3, 4]:\n",
    "        for l1 in [0, 1]:\n",
    "            for l2 in [0, 1]:\n",
    "                R = 0\n",
    "                for m1 in range(-l1, l1+1):\n",
    "                    for m2 in range(-l2, l2+1):\n",
    "                        R += sumK(l1, m1, l2, m2, k)\n",
    "                print(\"Vex(%d,%d,%d): %.10f\" % (l1, l2, k, R/(2*l1+1)/(2*l2+1)))"
   ]
  },
  {
   "cell_type": "code",
   "execution_count": null,
   "metadata": {
    "scrolled": false
   },
   "outputs": [
    {
     "name": "stdout",
     "output_type": "stream",
     "text": [
      "Vex(0,0,0): 1.0000000000\n",
      "Vex(0,1,0): 0.0000000000\n",
      "Vex(1,0,0): 0.0000000000\n",
      "Vex(1,1,0): 0.3333333333\n",
      "Vex(0,0,1): 0.0000000000\n",
      "Vex(0,1,1): 0.0000000000\n",
      "Vex(1,0,1): 0.0000000000\n",
      "Vex(1,1,1): 0.0000000000\n",
      "Vex(0,0,2): 0.0000000000\n",
      "Vex(0,1,2): 0.0000000000\n",
      "Vex(1,0,2): 0.0000000000\n",
      "Vex(1,1,2): 0.0000000000\n",
      "Vex(0,0,3): 0.0000000000\n",
      "Vex(0,1,3): 0.0000000000\n",
      "Vex(1,0,3): 0.0000000000\n",
      "Vex(1,1,3): 0.0000000000\n",
      "Vex(0,0,4): 0.0000000000\n"
     ]
    }
   ],
   "source": [
    "runVex()"
   ]
  },
  {
   "cell_type": "code",
   "execution_count": null,
   "metadata": {},
   "outputs": [],
   "source": []
  }
 ],
 "metadata": {
  "kernelspec": {
   "display_name": "Python 3",
   "language": "python",
   "name": "python3"
  },
  "language_info": {
   "codemirror_mode": {
    "name": "ipython",
    "version": 3
   },
   "file_extension": ".py",
   "mimetype": "text/x-python",
   "name": "python",
   "nbconvert_exporter": "python",
   "pygments_lexer": "ipython3",
   "version": "3.6.5"
  }
 },
 "nbformat": 4,
 "nbformat_minor": 2
}
